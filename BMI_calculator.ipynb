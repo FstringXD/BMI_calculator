{
 "cells": [
  {
   "cell_type": "code",
   "execution_count": 1,
   "id": "dc5d6c6a",
   "metadata": {},
   "outputs": [
    {
     "name": "stdout",
     "output_type": "stream",
     "text": [
      "Your Body Mass Indexis:  26.672763298277697\n",
      "You are overweight\n"
     ]
    }
   ],
   "source": [
    "Height = float(input(\"Enter your Height in centimeters: \"))\n",
    "Weight = float(input(\"Enter your Weight in kg: \"))\n",
    "Height = Height/100\n",
    "BMI = Weight/(Height*Height)\n",
    "print(\"Your Body Mass Indexis: \", BMI)\n",
    "if (BMI > 0):\n",
    "    if (BMI <= 16):\n",
    "        print (\"You are severely underweight\")\n",
    "    elif(BMI<= 18.5):\n",
    "        print (\"You are underweight\")\n",
    "    elif(BMI<=25):\n",
    "        print(\"You are Healthy\")\n",
    "    elif (BMI <= 30):\n",
    "        print(\"You are overweight\")\n",
    "    else: print(\"You are severely overweight\")\n",
    "else: (\"Enter valid details\")"
   ]
  }
 ],
 "metadata": {
  "kernelspec": {
   "display_name": "Python 3",
   "language": "python",
   "name": "python3"
  },
  "language_info": {
   "codemirror_mode": {
    "name": "ipython",
    "version": 3
   },
   "file_extension": ".py",
   "mimetype": "text/x-python",
   "name": "python",
   "nbconvert_exporter": "python",
   "pygments_lexer": "ipython3",
   "version": "3.11.9"
  }
 },
 "nbformat": 4,
 "nbformat_minor": 5
}
